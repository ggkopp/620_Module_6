{
 "cells": [
  {
   "cell_type": "code",
   "execution_count": 3,
   "id": "8815a5f8-524f-4977-98c1-05e4c2c384a2",
   "metadata": {},
   "outputs": [
    {
     "name": "stdout",
     "output_type": "stream",
     "text": [
      "HTML content saved to output.html\n"
     ]
    }
   ],
   "source": [
    "import pickle\n",
    "\n",
    "# Load the HTML content from the pickle file\n",
    "with open(\"Mod6_html.pkl\", \"rb\") as file:\n",
    "    html_content = pickle.load(file)\n",
    "\n",
    "# Save the HTML content to an HTML file with UTF-8 encoding\n",
    "with open(\"Updated_Mod6_pkl.html\", \"w\", encoding=\"utf-8\") as file:\n",
    "    file.write(html_content)\n",
    "\n",
    "print(\"HTML content saved to output.html\")"
   ]
  },
  {
   "cell_type": "code",
   "execution_count": null,
   "id": "0e35c119-4692-469c-bfd6-b3caed0e0d9a",
   "metadata": {},
   "outputs": [],
   "source": []
  }
 ],
 "metadata": {
  "kernelspec": {
   "display_name": "Python 3 (ipykernel)",
   "language": "python",
   "name": "python3"
  },
  "language_info": {
   "codemirror_mode": {
    "name": "ipython",
    "version": 3
   },
   "file_extension": ".py",
   "mimetype": "text/x-python",
   "name": "python",
   "nbconvert_exporter": "python",
   "pygments_lexer": "ipython3",
   "version": "3.10.11"
  }
 },
 "nbformat": 4,
 "nbformat_minor": 5
}
